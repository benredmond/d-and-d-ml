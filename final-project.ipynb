{
 "cells": [
  {
   "cell_type": "code",
   "execution_count": 158,
   "metadata": {},
   "outputs": [],
   "source": [
    "import json\n",
    "import pandas as pd\n",
    "import sys\n",
    "import random\n",
    "sys.path.append('./DnD-Battler/')\n",
    "import DnD"
   ]
  },
  {
   "cell_type": "code",
   "execution_count": 69,
   "metadata": {},
   "outputs": [],
   "source": [
    "url = \"https://raw.githubusercontent.com/oganm/dnddata/master/data-raw/dnd_chars_all.json\"\n",
    "df = pd.read_json(url)\n",
    "df = df.transpose()"
   ]
  },
  {
   "cell_type": "code",
   "execution_count": 167,
   "metadata": {},
   "outputs": [],
   "source": [
    "ignored = ['ip', 'finger', 'date', 'hash', 'choices', 'name', 'country']\n",
    "dont_process = ['weapons', 'spells', 'skills']\n",
    "clean_df = pd.json_normalize(df['name'])\n",
    "clean_df = clean_df['alias'].str[0]\n",
    "\n",
    "for key in df.keys():\n",
    "    if key not in ignored:\n",
    "        if key in dont_process:\n",
    "            data = df[key].reset_index(drop=True)\n",
    "        else:\n",
    "            try: # try doing a json_normalize, which will fail if it's not a json\n",
    "                data = pd.json_normalize(df[key])\n",
    "                for col in data.keys(): # unpack the singletons in each json column\n",
    "                    data[col] = data[col].str[0]\n",
    "            except AttributeError: \n",
    "                data = df[key].str[0]\n",
    "                data = data.reset_index(drop=True) # use integer index to conform with json_normalize index\n",
    "\n",
    "        clean_df = pd.concat([clean_df, data], axis=1)\n",
    "\n",
    "num_spells = df['spells'].apply(len).reset_index(drop=True)\n",
    "clean_df['num_spells'] = num_spells\n",
    "\n",
    "# add generic \"primary class\" column based on highest level class of character\n",
    "class_list = ['Artificer.level','Barbarian.level','Bard.level','Cleric.level','Druid.level','Fighter.level','Monk.level','Paladin.level','Ranger.level','Rogue.level','Sorcerer.level','Warlock.level','Wizard.level']\n",
    "class_df = clean_df[class_list]\n",
    "\n",
    "primary_class = class_df.idxmax(axis=1)\n",
    "class1 = list(primary_class.str.split('.').str[0])\n",
    "clean_df['class1'] = class1\n",
    "\n",
    "# add generic \"primary class level\" column/label\n",
    "primary_class_level = class_df.max(axis=1)\n",
    "clean_df['level1'] = primary_class_level\n",
    "\n",
    "# one-hot encode castingStat\n",
    "castingStat = pd.get_dummies(clean_df[\"castingStat\"], prefix='castingStat')\n",
    "clean_df = pd.concat([clean_df, castingStat], axis = 1)\n",
    "\n",
    "# one-hot encode processedRace \n",
    "processedRace = pd.get_dummies(clean_df[\"processedRace\"], prefix='processedRace')\n",
    "clean_df = pd.concat([clean_df, processedRace], axis = 1)\n",
    "\n",
    "# add hp / level\n",
    "clean_df['hp_per_lvl'] = clean_df['HP'] / clean_df['level1']"
   ]
  },
  {
   "cell_type": "code",
   "execution_count": 193,
   "metadata": {},
   "outputs": [
    {
     "name": "stdout",
     "output_type": "stream",
     "text": [
      "165\n"
     ]
    }
   ],
   "source": [
    "with pd.option_context('display.max_rows', None, 'display.max_columns', None):  # more options can be specified also\n",
    "    print(len(clean_df.iloc[0]))\n",
    "    \n",
    "# weapons = clean_df.iloc[0]['weapons']\n",
    "# for weapon in weapons:\n",
    "#     print(weapons[weapon]['processedWeapon'])\n",
    "    \n",
    "# clean_df\n",
    "# pd.json_normalize(clean_df.iloc[0]['weapons'])"
   ]
  },
  {
   "cell_type": "code",
   "execution_count": 190,
   "metadata": {},
   "outputs": [
    {
     "name": "stdout",
     "output_type": "stream",
     "text": [
      "56 2 6\n",
      "choice HD... 6.285714285714286\n",
      "56 2 6\n",
      "choice HD... 6.285714285714286\n",
      "56 2 6\n",
      "choice HD... 6.285714285714286\n",
      "56 2 6\n",
      "choice HD... 6.285714285714286\n",
      "56 2 6\n",
      "choice HD... 6.285714285714286\n",
      "{'log': 'Weapon matched by str to flail\\n', 'settings': {}, 'name': 'Donny', 'level': 6, 'xp': None, 'proficiency': 3, 'able': 1, 'ability_bonuses': {'str': 0, 'dex': 4, 'con': 2, 'wis': 4, 'int': 1, 'cha': -2}, 'abilities': {'str': 10, 'dex': 18, 'con': 15, 'wis': 18, 'int': 13, 'cha': 6}, 'hd': <DnD.Dice object at 0x7fbca7909160>, 'hp': 56, 'starting_hp': 56, 'ac': 18, 'initiative': <DnD.Dice object at 0x7fbca79093d0>, 'sc_ab': 'con', 'starting_healing_spells': 0, 'healing_spells': 0, 'attacks': [{'name': 'flail', 'damage': <DnD.Dice object at 0x7fbca7909310>, 'attack': <DnD.Dice object at 0x7fbca7909760>}], 'hurtful': 8.5, 'attack_parameters': [['flail', 7, 4, 8]], 'alt_attack': {'name': None, 'attack': None}, 'alignment': 'T', 'tally': {'damage': 0, 'hits': 0, 'dead': 0, 'misses': 0, 'battles': 0, 'rounds': 0, 'hp': 0, 'healing_spells': 0}, 'copy_index': 1, 'condition': 'normal', 'dodge': 0, 'concentrating': 0, 'temp': 0, 'buff_spells': 0, 'cr': 5, 'custom': [], 'arena': None}\n"
     ]
    }
   ],
   "source": [
    "char = clean_df.iloc[0]\n",
    "donald = DnD.Creature(\"Donny\", abilities={'dex': char['Dex'], 'str': char['Str'], 'cha': char['Cha'], 'con': char['Con'], \n",
    "                                  'int': char['Int'], 'wis': char['Wis']}, \n",
    "             ac=char.AC, hp=char.HP, attack_parameters='flail', level=char['level'], alignment='T' )\n",
    "\n",
    "donjr = DnD.Creature(\"djr\", abilities={'dex': char['Dex'], 'str': char['Str'], 'cha': char['Cha'], 'con': char['Con'], \n",
    "                                  'int': char['Int'], 'wis': char['Wis']}, \n",
    "             ac=char.AC, hp=char.HP, attack_parameters='flail', level=char['level'], alignment='T' )\n",
    "\n",
    "mike = DnD.Creature(\"mike\", abilities={'dex': char['Dex'], 'str': char['Str'], 'cha': char['Cha'], 'con': char['Con'], \n",
    "                                  'int': char['Int'], 'wis': char['Wis']}, \n",
    "             ac=char.AC, hp=char.HP, attack_parameters='flail', level=char['level'], alignment='T' )\n",
    "\n",
    "\n",
    "joe = DnD.Creature(\"joe\", abilities={'dex': char['Dex'], 'str': char['Str'], 'cha': char['Cha'], 'con': char['Con'], \n",
    "                                  'int': char['Int'], 'wis': char['Wis']}, \n",
    "             ac=char.AC, hp=char.HP, attack_parameters='flail', level=char['level'], alignment='yuh' )\n",
    "\n",
    "kamala = DnD.Creature(\"kamala\", abilities={'dex': char['Dex'], 'str': char['Str'], 'cha': char['Cha'], 'con': char['Con'], \n",
    "                                  'int': char['Int'], 'wis': char['Wis']}, \n",
    "             ac=char.AC, hp=char.HP, attack_parameters='flail', level=char['level'], alignment='yuh' )\n",
    "print(donald.__dict__)"
   ]
  },
  {
   "cell_type": "code",
   "execution_count": 192,
   "metadata": {},
   "outputs": [
    {
     "name": "stdout",
     "output_type": "stream",
     "text": [
      "{\"prediction\": \"Rough a priori predictions:\\n> T= expected rounds to survive: 1991.11; crudely normalised: 0%\\n> yuh= expected rounds to survive: 597.33; crudely normalised: 0%\\n\", \"battles\": 1, \"rounds\": 13, \"notes\": \"\", \"team_names\": [\"T\", \"yuh\"], \"team_victories\": [1, 0], \"team_perfects\": [0, 0], \"team_close\": [0, 0], \"combattant_names\": [\"joe\", \"Donny\", \"mike\"], \"combattant_alignments\": [\"yuh\", \"T\", \"T\"], \"combattant_damage_avg\": [40.0, 0.0, 62.0], \"combattant_hit_avg\": [4.0, 0.0, 5.0], \"combattant_miss_avg\": [8.0, 0.0, 7.0], \"combattant_rounds\": [0.9230769230769231, 1.0, 0.9230769230769231], \"sample_encounter\": \"==NEW BATTLE==\\nTurn order:\\n['joe', 'Donny', 'mike']\\n**NEW ROUND**\\njoe attacks Donny with flail\\nDonny is dodging\\nmike attacks joe with flail\\njoe took 10 of damage. Now on 46 hp.\\n**NEW ROUND**\\njoe attacks Donny with flail\\nDonny is dodging\\nmike attacks joe with flail\\njoe took 6 of damage. Now on 40 hp.\\n**NEW ROUND**\\njoe attacks Donny with flail\\nDonny is dodging\\nmike attacks joe with flail\\n**NEW ROUND**\\njoe attacks Donny with flail\\nDonny took 12 of damage. Now on 44 hp.\\nDonny is dodging\\nmike attacks joe with flail\\nFumble!\\n**NEW ROUND**\\njoe attacks Donny with flail\\nDonny is dodging\\nmike attacks joe with flail\\n**NEW ROUND**\\njoe attacks Donny with flail\\nDonny is dodging\\nmike attacks joe with flail\\n**NEW ROUND**\\njoe attacks Donny with flail\\nDonny took 12 of damage. Now on 32 hp.\\nDonny is dodging\\nmike attacks joe with flail\\n**NEW ROUND**\\njoe attacks Donny with flail\\nDonny is dodging\\nmike attacks joe with flail\\njoe took 18 of damage. Now on 22 hp.\\n**NEW ROUND**\\njoe attacks Donny with flail\\nDonny took 7 of damage. Now on 25 hp.\\nDonny is dodging\\nmike attacks joe with flail\\n**NEW ROUND**\\njoe attacks Donny with flail\\nDonny is dodging\\nmike attacks joe with flail\\n**NEW ROUND**\\njoe attacks Donny with flail\\nDonny took 9 of damage. Now on 16 hp.\\nDonny is dodging\\nmike attacks joe with flail\\njoe took 12 of damage. Now on 10 hp.\\n**NEW ROUND**\\njoe attacks Donny with flail\\nFumble!\\nDonny is dodging\\nmike attacks joe with flail\\njoe took 16 of damage. Now on -6 hp.\\n**NEW ROUND**\\n================================================== Encounter ==================================================\\nRough a priori predictions:\\n> T= expected rounds to survive: 1991.11; crudely normalised: 0%\\n> yuh= expected rounds to survive: 597.33; crudely normalised: 0%\\n--------------------------------------------------------------------------------------------------------------\\nBattles: 1; Sum of rounds: 13; \\n> Team T = winning battles: 1; perfect battles: 0; close-call battles: 0;\\n> Team yuh = winning battles: 0; perfect battles: 0; close-call battles: 0;\\n------------------------------------------------- Combattants  ------------------------------------------------\\njoe: {team=yuh; avg hp=-6.0 (from 56); avg healing spells left=0.0 (from 0); damage done (per battle average)= 40.0; hits/misses (PBA)= 4.0/8.0; rounds (PBA)=12.0;}\\nDonny: {team=T; avg hp=16.0 (from 56); avg healing spells left=0.0 (from 0); damage done (per battle average)= 0.0; hits/misses (PBA)= 0.0/0.0; rounds (PBA)=13.0;}\\nmike: {team=T; avg hp=56.0 (from 56); avg healing spells left=0.0 (from 0); damage done (per battle average)= 62.0; hits/misses (PBA)= 5.0/7.0; rounds (PBA)=12.0;}\\n\"}\n"
     ]
    }
   ],
   "source": [
    "arena = DnD.Encounter(donald, joe, kamala, donjr, mike)  #Encounter accepts both Creature and strings.\n",
    "# print(arena.go_to_war(10000).json())\n",
    "print(arena.battle(verbose =1).json())\n"
   ]
  },
  {
   "cell_type": "code",
   "execution_count": 173,
   "metadata": {},
   "outputs": [
    {
     "name": "stdout",
     "output_type": "stream",
     "text": [
      "1.5\n",
      "5.666666666666667\n",
      "9.0\n",
      "12.75\n",
      "16.4\n",
      "19.833333333333332\n"
     ]
    }
   ],
   "source": [
    "levelGroups = ['1-3', '4-7', '8-11', '12-15', '16-18', '19-20']\n",
    "# clean_df[~clean_df['levelGroup'].isin(levelGroups)]['levelGroup']\n",
    "for group in levelGroups:\n",
    "    grouped_chars = clean_df[clean_df['levelGroup'] == group]\n",
    "    group_size = random.randint(2, 6)\n",
    "    sample = grouped_chars.sample(group_size)\n",
    "    print(sum(sample['level']) / group_size)\n",
    "    "
   ]
  },
  {
   "cell_type": "code",
   "execution_count": null,
   "metadata": {},
   "outputs": [],
   "source": []
  }
 ],
 "metadata": {
  "kernelspec": {
   "display_name": "Python 3",
   "language": "python",
   "name": "python3"
  },
  "language_info": {
   "codemirror_mode": {
    "name": "ipython",
    "version": 3
   },
   "file_extension": ".py",
   "mimetype": "text/x-python",
   "name": "python",
   "nbconvert_exporter": "python",
   "pygments_lexer": "ipython3",
   "version": "3.8.3"
  }
 },
 "nbformat": 4,
 "nbformat_minor": 4
}
